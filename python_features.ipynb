{
 "cells": [
  {
   "cell_type": "markdown",
   "metadata": {},
   "source": [
    "## Features I Love In Python\n",
    "\n",
    "Every programming language implement some of the same features, such as functions, loops, if/else statements, etc, but what differents most of them is how they chose to implement them. While some may be quite similar, because most likely they are based off of another language, i.e javascript and c, some of them are quite unique, particulary to me, as in the case of python and ruby. \n",
    "\n",
    "Lets compare some of my favorite features in python and its approximate equivalent in javascript. The javascript equivalents could potentially be made more terse, but I have written it in a way to higlight python's succintness."
   ]
  },
  {
   "cell_type": "markdown",
   "metadata": {},
   "source": [
    "### Comprehensions"
   ]
  },
  {
   "cell_type": "code",
   "execution_count": 1,
   "metadata": {},
   "outputs": [
    {
     "data": {
      "text/plain": [
       "[0, 2, 4, 6, 8, 10, 12, 14, 16, 18]"
      ]
     },
     "execution_count": 1,
     "metadata": {},
     "output_type": "execute_result"
    }
   ],
   "source": [
    "# python\n",
    "even_nums = [i for i in range(0,20,2)]\n",
    "even_nums"
   ]
  },
  {
   "cell_type": "code",
   "execution_count": 5,
   "metadata": {},
   "outputs": [
    {
     "data": {
      "text/plain": [
       "[ 0, 2, 4, 6, 8, 10, 12, 14, 16, 18 ]"
      ]
     },
     "execution_count": 5,
     "metadata": {},
     "output_type": "execute_result"
    }
   ],
   "source": [
    "// javascript\n",
    "getEvenNums = () => {\n",
    "    nums = []\n",
    "    for (let x = 0; x < 20; x += 2) {\n",
    "        nums.push(x)\n",
    "    }\n",
    "    return nums\n",
    "}\n",
    "evenNums = getEvenNums()\n",
    "evenNums"
   ]
  },
  {
   "cell_type": "code",
   "execution_count": 5,
   "metadata": {},
   "outputs": [
    {
     "data": {
      "text/plain": [
       "{0: 0, 2: 4, 4: 8, 6: 12, 8: 16}"
      ]
     },
     "execution_count": 5,
     "metadata": {},
     "output_type": "execute_result"
    }
   ],
   "source": [
    "# python\n",
    "even_keys = {i: val for i, val in enumerate(even_nums) if i % 2 == 0}\n",
    "even_keys"
   ]
  },
  {
   "cell_type": "code",
   "execution_count": 11,
   "metadata": {},
   "outputs": [
    {
     "data": {
      "text/plain": [
       "{ '0': 0, '2': 4, '4': 8, '6': 12, '8': 16 }"
      ]
     },
     "execution_count": 11,
     "metadata": {},
     "output_type": "execute_result"
    }
   ],
   "source": [
    "// javascript\n",
    "getEvenKeys = () => {\n",
    "    evenKeysObj = {}\n",
    "    evenNums.forEach(x => {\n",
    "        index = evenNums.indexOf(x)\n",
    "        if (x % 2 == 0 && index % 2 == 0) {\n",
    "            evenKeysObj[index] = x\n",
    "        }   \n",
    "    })\n",
    "    return evenKeysObj\n",
    "}\n",
    "even_keys = getEvenKeys()\n",
    "even_keys"
   ]
  },
  {
   "cell_type": "markdown",
   "metadata": {},
   "source": [
    "### lambda functions"
   ]
  },
  {
   "cell_type": "code",
   "execution_count": 11,
   "metadata": {},
   "outputs": [
    {
     "data": {
      "text/plain": [
       "10"
      ]
     },
     "execution_count": 11,
     "metadata": {},
     "output_type": "execute_result"
    }
   ],
   "source": [
    "# python\n",
    "double = lambda x: x * 2\n",
    "double(5)"
   ]
  },
  {
   "cell_type": "code",
   "execution_count": 1,
   "metadata": {},
   "outputs": [
    {
     "data": {
      "text/plain": [
       "10"
      ]
     },
     "execution_count": 1,
     "metadata": {},
     "output_type": "execute_result"
    }
   ],
   "source": [
    "// javascript\n",
    "double = x => x * 2\n",
    "double(5)"
   ]
  },
  {
   "cell_type": "markdown",
   "metadata": {},
   "source": [
    "### snake_case vs camelCase\n",
    "\n",
    "These aren't really features, but adopted practices. However with much usage of the snake_case I have found\n",
    "a preference for it, thus I dub it a feature.\n",
    "\n"
   ]
  },
  {
   "cell_type": "markdown",
   "metadata": {},
   "source": [
    "### Batteries Come Included\n",
    "\n",
    "Python is much lauded for it standard library that comes included with such modules as the datetime, collections, fileinput, statistics, and math among others. The entire list can be seen [here](https://docs.python.org/3/library/index.html)."
   ]
  }
 ],
 "metadata": {
  "kernelspec": {
   "display_name": "Javascript (Node.js)",
   "language": "javascript",
   "name": "javascript"
  },
  "language_info": {
   "file_extension": ".js",
   "mimetype": "application/javascript",
   "name": "javascript",
   "version": "8.9.3"
  }
 },
 "nbformat": 4,
 "nbformat_minor": 2
}
