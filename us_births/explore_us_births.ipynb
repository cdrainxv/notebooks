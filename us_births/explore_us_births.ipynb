{
 "cells": [
  {
   "cell_type": "markdown",
   "metadata": {},
   "source": [
    "# Exploring U.S Births 1994 - 2003"
   ]
  },
  {
   "cell_type": "markdown",
   "metadata": {},
   "source": [
    "There are a myriad of file extensions, some of which I probably won't ever come across, but there are some common filetypes that are used in Data Science. One of them is just a plain textfile with comma-seperated vales, hence the extension **csv**. Here's an example:\n",
    "\n",
    "```python\n",
    "player,team,pos,number\n",
    "K. Durant,Golden State Warriors,SF,35\n",
    "L. James,Cleveland Cavaliers,SF,23\n",
    "J. Harden,Houston Rockets,SG,13\n",
    "```\n",
    "\n",
    "Notice the first row is the header, and the actual data lines up with each header. \n",
    "For example, K. Durant is the name of the **player**, his **team** is the Golden State Warriors, he plays at the SF (small forward) **pos**ition and his jersey **number** is 35.\n",
    "This makes it not only easy to read visually -- at least if there are only a few headers. Additionally, computers can easily read and organize data that is formatted as such, regardless of how many headers and/or how many rows of values in the file.\n",
    "\n",
    "How do read such data to a computer, though? Let's read the a file with the same data as above into the computer's memory and see how."
   ]
  },
  {
   "cell_type": "code",
   "execution_count": 28,
   "metadata": {},
   "outputs": [
    {
     "data": {
      "text/plain": [
       "<_io.TextIOWrapper name='nba_example.csv' mode='r' encoding='UTF-8'>"
      ]
     },
     "execution_count": 28,
     "metadata": {},
     "output_type": "execute_result"
    }
   ],
   "source": [
    "f = open('nba_example.csv', mode='r')\n",
    "f"
   ]
  },
  {
   "cell_type": "markdown",
   "metadata": {},
   "source": [
    "We just opened the file in read mode. This means we just want to read it just like a book; we have no interest in editing it all. Now that it's opened, we have to read the data inside."
   ]
  },
  {
   "cell_type": "code",
   "execution_count": 27,
   "metadata": {},
   "outputs": [
    {
     "data": {
      "text/plain": [
       "'player,team,pos,number\\nK. Durant,Golden State Warriors,SF,35\\nL. James,Cleveland Cavaliers,SF,23\\nJ. Harden,Houston Rockets,SG,13\\nR. Westbrook,OKC Thunder,PG,0\\nJ. Embiid,Philidelphia 76ers,21\\n'"
      ]
     },
     "execution_count": 27,
     "metadata": {},
     "output_type": "execute_result"
    }
   ],
   "source": [
    "data1 = f.read()\n",
    "data1"
   ]
  },
  {
   "cell_type": "code",
   "execution_count": 29,
   "metadata": {},
   "outputs": [
    {
     "data": {
      "text/plain": [
       "['player,team,pos,number\\n',\n",
       " 'K. Durant,Golden State Warriors,SF,35\\n',\n",
       " 'L. James,Cleveland Cavaliers,SF,23\\n',\n",
       " 'J. Harden,Houston Rockets,SG,13\\n',\n",
       " 'R. Westbrook,OKC Thunder,PG,0\\n',\n",
       " 'J. Embiid,Philidelphia 76ers,21\\n']"
      ]
     },
     "execution_count": 29,
     "metadata": {},
     "output_type": "execute_result"
    }
   ],
   "source": [
    "data2 = f.readlines()\n",
    "data2"
   ]
  },
  {
   "cell_type": "markdown",
   "metadata": {},
   "source": [
    "We have several ways to read files into memory. Two of them are shown above, **read()** and **readlines()**. **read** returns our file in a long continuous ***string***, while **readlines()** returns it in a ***list***. Notice the escaped characters for newlines and carriage returns. The **read()** option seems the easier one to work with for the above file, there we need to remove the newline characters by splitting it at **\\n**. This returns a list with each data row being a distint element."
   ]
  },
  {
   "cell_type": "code",
   "execution_count": 4,
   "metadata": {},
   "outputs": [
    {
     "data": {
      "text/plain": [
       "['player,team,pos,number',\n",
       " 'K. Durant,Golden State Warriors,SF,35',\n",
       " 'L. James,Cleveland Cavaliers,SF,23',\n",
       " 'J. Harden,Houston Rockets,SG,13',\n",
       " 'R. Westbrook,OKC Thunder,PG,0',\n",
       " 'J. Embiid,Philidelphia 76ers,21',\n",
       " '']"
      ]
     },
     "execution_count": 4,
     "metadata": {},
     "output_type": "execute_result"
    }
   ],
   "source": [
    "nba_list = data1.split('\\n')\n",
    "nba_list"
   ]
  },
  {
   "cell_type": "markdown",
   "metadata": {},
   "source": [
    "That's about the gist of it. The above data is quite limited to work with as it's very small and there's nothing of note to further investigate given the limited headers. Alas if it had interseting information such as fg, fga, 3P%, ppg, etc.\n",
    "\n",
    "Once we are done reading a file, then logically we would close it afterward like so:"
   ]
  },
  {
   "cell_type": "code",
   "execution_count": 5,
   "metadata": {},
   "outputs": [],
   "source": [
    "f.close()"
   ]
  },
  {
   "cell_type": "markdown",
   "metadata": {},
   "source": [
    "NOTE: We can make use of a [**context manager**](https://jeffknupp.com/blog/2016/03/07/python-with-context-managers/) to open and close our files automatically, thus freeing up some memory."
   ]
  },
  {
   "cell_type": "markdown",
   "metadata": {},
   "source": [
    "## U.S Births 1994 - 2003"
   ]
  },
  {
   "cell_type": "markdown",
   "metadata": {},
   "source": [
    "However, there's another file that's much meatier which we can use to not only pose our own questions, but in turn answer them as well. Here's some of the type of questions we will explore using the dataset:\n",
    "* How many births each year\n",
    "* How many births each month\n",
    "* How many births each weekday\n",
    "* How many births each day of the month"
   ]
  },
  {
   "cell_type": "code",
   "execution_count": 6,
   "metadata": {},
   "outputs": [
    {
     "data": {
      "text/plain": [
       "['year,month,date_of_month,day_of_week,births',\n",
       " '1994,1,1,6,8096',\n",
       " '1994,1,2,7,7772',\n",
       " '1994,1,3,1,10142',\n",
       " '1994,1,4,2,11248',\n",
       " '1994,1,5,3,11053',\n",
       " '1994,1,6,4,11406',\n",
       " '1994,1,7,5,11251',\n",
       " '1994,1,8,6,8653',\n",
       " '1994,1,9,7,7910']"
      ]
     },
     "execution_count": 6,
     "metadata": {},
     "output_type": "execute_result"
    }
   ],
   "source": [
    "file = open('US_births_1994-2003_CDC_NCHS.csv')\n",
    "data = file.read()\n",
    "data_list = data.split('\\n')\n",
    "\n",
    "# small sample of data for preview\n",
    "data_list[:10]"
   ]
  },
  {
   "cell_type": "markdown",
   "metadata": {},
   "source": [
    "\n",
    "\n",
    "We are working with numeric integers, but all of the above data indicates that they are formatted as string values after reading the file. Furthermore the header is not really pertinent once we start working with the data values, therefore we should seperate the header from the actual data. Let's create a function that will do all the above. The function will take in a filename, read the file, split the data into a list without including the header, and then finally change all the values into **integers**."
   ]
  },
  {
   "cell_type": "code",
   "execution_count": 7,
   "metadata": {},
   "outputs": [],
   "source": [
    "def read_csv(file_name):\n",
    "    file = open(file_name, 'r')\n",
    "    data = file.read().split('\\n')\n",
    "    string_list = data[1:]\n",
    "    final_list = []\n",
    "    for row in string_list:\n",
    "        int_fields = []\n",
    "        string_fields = row.split(',')\n",
    "        for val in string_fields:\n",
    "            int_fields.append(int(val))\n",
    "            \n",
    "        final_list.append(int_fields)\n",
    "    \n",
    "    return final_list"
   ]
  },
  {
   "cell_type": "code",
   "execution_count": 8,
   "metadata": {},
   "outputs": [
    {
     "data": {
      "text/plain": [
       "[[1994, 1, 1, 6, 8096],\n",
       " [1994, 1, 2, 7, 7772],\n",
       " [1994, 1, 3, 1, 10142],\n",
       " [1994, 1, 4, 2, 11248],\n",
       " [1994, 1, 5, 3, 11053],\n",
       " [1994, 1, 6, 4, 11406],\n",
       " [1994, 1, 7, 5, 11251],\n",
       " [1994, 1, 8, 6, 8653],\n",
       " [1994, 1, 9, 7, 7910],\n",
       " [1994, 1, 10, 1, 10498]]"
      ]
     },
     "execution_count": 8,
     "metadata": {},
     "output_type": "execute_result"
    }
   ],
   "source": [
    "cdc_list = read_csv('US_births_1994-2003_CDC_NCHS.csv')\n",
    "cdc_list[:10]\n",
    "# notice no header"
   ]
  },
  {
   "cell_type": "markdown",
   "metadata": {},
   "source": [
    "### How Many Births Per Month"
   ]
  },
  {
   "cell_type": "markdown",
   "metadata": {},
   "source": [
    "The header informs us that the 0<sup>th</sup> index in each datarow will house the **year**, 1<sup>st</sup> index the **month** (jan = 1, feb = 2, etc), 2<sup>nd</sup> index the **date_of_month** (1-31), 3<sup>rd</sup> index the **day_of_week** (1-7), and 4<sup>th</sup> index the **births** on that day. To answer this question, it would be wise to define a function that takes our list, sums up how many births there are in each month from 1994 to 2003, and then returns it to us in a dictionary, with each month being a key and the value be the births for that month in that timespan."
   ]
  },
  {
   "cell_type": "code",
   "execution_count": 9,
   "metadata": {},
   "outputs": [],
   "source": [
    "def month_births(input_list):\n",
    "    births_per_month = {}\n",
    "    for data in input_list:\n",
    "        month = data[1]\n",
    "        births = data[4]\n",
    "        if month in births_per_month:\n",
    "            births_per_month[month] += births\n",
    "        else:\n",
    "            births_per_month[month] = births\n",
    "        \n",
    "    return births_per_month        "
   ]
  },
  {
   "cell_type": "code",
   "execution_count": 10,
   "metadata": {},
   "outputs": [
    {
     "data": {
      "text/plain": [
       "{1: 3232517,\n",
       " 2: 3018140,\n",
       " 3: 3322069,\n",
       " 4: 3185314,\n",
       " 5: 3350907,\n",
       " 6: 3296530,\n",
       " 7: 3498783,\n",
       " 8: 3525858,\n",
       " 9: 3439698,\n",
       " 10: 3378814,\n",
       " 11: 3171647,\n",
       " 12: 3301860}"
      ]
     },
     "execution_count": 10,
     "metadata": {},
     "output_type": "execute_result"
    }
   ],
   "source": [
    "cdc_month_births = month_births(cdc_list)\n",
    "cdc_month_births"
   ]
  },
  {
   "cell_type": "markdown",
   "metadata": {},
   "source": [
    "From the data above, we can see that from 1994 to 2003 there was a total of 3,296,530 children born in the month of June in the U.S. Scan the dictionary to see the amount of births in other months."
   ]
  },
  {
   "cell_type": "markdown",
   "metadata": {},
   "source": [
    "### How Many Births Per Day Of Week"
   ]
  },
  {
   "cell_type": "markdown",
   "metadata": {},
   "source": [
    "How about births per day of week? The function definition is very similar with only a few noticeable changes, but let's implement it anyways."
   ]
  },
  {
   "cell_type": "code",
   "execution_count": 11,
   "metadata": {},
   "outputs": [],
   "source": [
    "def dow_births(input_list):\n",
    "    births_per_weekday = {}\n",
    "    for data in input_list:\n",
    "        day_of_week = data[3]\n",
    "        births = data[4]\n",
    "        if day_of_week in births_per_weekday:\n",
    "            births_per_weekday[day_of_week] += births\n",
    "        else:\n",
    "            births_per_weekday[day_of_week] = births\n",
    "        \n",
    "    return births_per_weekday"
   ]
  },
  {
   "cell_type": "code",
   "execution_count": 12,
   "metadata": {},
   "outputs": [
    {
     "data": {
      "text/plain": [
       "{1: 5789166,\n",
       " 2: 6446196,\n",
       " 3: 6322855,\n",
       " 4: 6288429,\n",
       " 5: 6233657,\n",
       " 6: 4562111,\n",
       " 7: 4079723}"
      ]
     },
     "execution_count": 12,
     "metadata": {},
     "output_type": "execute_result"
    }
   ],
   "source": [
    "cdc_day_births = dow_births(cdc_list)\n",
    "cdc_day_births"
   ]
  },
  {
   "cell_type": "markdown",
   "metadata": {},
   "source": [
    "### General Function"
   ]
  },
  {
   "cell_type": "markdown",
   "metadata": {},
   "source": [
    "The dow_births and month_births functions are exactly the same, save for the index data we require, month at index 1 and day_of_week at index 3, and the variable names. In such instances we want to generalize the function so we can reuse it for these and potentially other questions we might have. We will need to include a new column parameter for our function. This column is the index of the headers from which we want to get data. For ex. if the column parameter was 0, then our function would return a dictionary with the total number of births in each year."
   ]
  },
  {
   "cell_type": "code",
   "execution_count": 13,
   "metadata": {},
   "outputs": [],
   "source": [
    "def calc_counts(input_list, column):\n",
    "    births_per_column = {}\n",
    "    for data in input_list:\n",
    "        col_data = data[column]\n",
    "        births = data[4]\n",
    "        if col_data in births_per_column:\n",
    "            births_per_column[col_data] += births\n",
    "        else:\n",
    "            births_per_column[col_data] = births\n",
    "        \n",
    "    return births_per_column"
   ]
  },
  {
   "cell_type": "code",
   "execution_count": 14,
   "metadata": {},
   "outputs": [
    {
     "data": {
      "text/plain": [
       "{1994: 3952767,\n",
       " 1995: 3899589,\n",
       " 1996: 3891494,\n",
       " 1997: 3880894,\n",
       " 1998: 3941553,\n",
       " 1999: 3959417,\n",
       " 2000: 4058814,\n",
       " 2001: 4025933,\n",
       " 2002: 4021726,\n",
       " 2003: 4089950}"
      ]
     },
     "execution_count": 14,
     "metadata": {},
     "output_type": "execute_result"
    }
   ],
   "source": [
    "cdc_year_births = calc_counts(cdc_list, 0)\n",
    "cdc_year_births"
   ]
  },
  {
   "cell_type": "code",
   "execution_count": 15,
   "metadata": {},
   "outputs": [
    {
     "data": {
      "text/plain": [
       "{1: 3232517,\n",
       " 2: 3018140,\n",
       " 3: 3322069,\n",
       " 4: 3185314,\n",
       " 5: 3350907,\n",
       " 6: 3296530,\n",
       " 7: 3498783,\n",
       " 8: 3525858,\n",
       " 9: 3439698,\n",
       " 10: 3378814,\n",
       " 11: 3171647,\n",
       " 12: 3301860}"
      ]
     },
     "execution_count": 15,
     "metadata": {},
     "output_type": "execute_result"
    }
   ],
   "source": [
    "cdc_month_births = calc_counts(cdc_list, 1)\n",
    "cdc_month_births"
   ]
  },
  {
   "cell_type": "code",
   "execution_count": 16,
   "metadata": {},
   "outputs": [
    {
     "data": {
      "text/plain": [
       "{1: 1276557,\n",
       " 2: 1288739,\n",
       " 3: 1304499,\n",
       " 4: 1288154,\n",
       " 5: 1299953,\n",
       " 6: 1304474,\n",
       " 7: 1310459,\n",
       " 8: 1312297,\n",
       " 9: 1303292,\n",
       " 10: 1320764,\n",
       " 11: 1314361,\n",
       " 12: 1318437,\n",
       " 13: 1277684,\n",
       " 14: 1320153,\n",
       " 15: 1319171,\n",
       " 16: 1315192,\n",
       " 17: 1324953,\n",
       " 18: 1326855,\n",
       " 19: 1318727,\n",
       " 20: 1324821,\n",
       " 21: 1322897,\n",
       " 22: 1317381,\n",
       " 23: 1293290,\n",
       " 24: 1288083,\n",
       " 25: 1272116,\n",
       " 26: 1284796,\n",
       " 27: 1294395,\n",
       " 28: 1307685,\n",
       " 29: 1223161,\n",
       " 30: 1202095,\n",
       " 31: 746696}"
      ]
     },
     "execution_count": 16,
     "metadata": {},
     "output_type": "execute_result"
    }
   ],
   "source": [
    "cdc_dom_births = calc_counts(cdc_list, 2)\n",
    "cdc_dom_births"
   ]
  },
  {
   "cell_type": "code",
   "execution_count": 17,
   "metadata": {},
   "outputs": [
    {
     "data": {
      "text/plain": [
       "{1: 5789166,\n",
       " 2: 6446196,\n",
       " 3: 6322855,\n",
       " 4: 6288429,\n",
       " 5: 6233657,\n",
       " 6: 4562111,\n",
       " 7: 4079723}"
      ]
     },
     "execution_count": 17,
     "metadata": {},
     "output_type": "execute_result"
    }
   ],
   "source": [
    "cdc_dow_births = calc_counts(cdc_list, 3)\n",
    "cdc_dow_births"
   ]
  },
  {
   "cell_type": "markdown",
   "metadata": {
    "collapsed": true
   },
   "source": [
    "### Max And Min Births In Each Category"
   ]
  },
  {
   "cell_type": "markdown",
   "metadata": {},
   "source": [
    "It would be nice to know the min. and max. births for all of the above calculations without having to search for outselves. Since we already get a dictionary from the calc_counts() function, let's use that as the first parameter for our max_min_births function. To make it even more general we need a second parameter so that we can specify whether we want the min or max values. The parameter will default to the min value, thus the **reverse=False** parameter for ascending order, but if what require the max value, then we need to explicitly specify that **reverse=True** for descending order."
   ]
  },
  {
   "cell_type": "code",
   "execution_count": 18,
   "metadata": {},
   "outputs": [],
   "source": [
    "def max_min_births(input_list, reverse=False):\n",
    "    import operator\n",
    "    \n",
    "    sorted_births = sorted(input_list.items(), key=operator.itemgetter(1),reverse=reverse)\n",
    "    return sorted_births[0]"
   ]
  },
  {
   "cell_type": "code",
   "execution_count": 19,
   "metadata": {},
   "outputs": [
    {
     "data": {
      "text/plain": [
       "(7, 4079723)"
      ]
     },
     "execution_count": 19,
     "metadata": {},
     "output_type": "execute_result"
    }
   ],
   "source": [
    "cd_dow_births_min = max_min_births(calc_counts(cdc_list, 3))\n",
    "cd_dow_births_min"
   ]
  },
  {
   "cell_type": "code",
   "execution_count": 20,
   "metadata": {},
   "outputs": [
    {
     "data": {
      "text/plain": [
       "(2, 6446196)"
      ]
     },
     "execution_count": 20,
     "metadata": {},
     "output_type": "execute_result"
    }
   ],
   "source": [
    "cd_dow_births_max = max_min_births(calc_counts(cdc_list, 3), reverse=True)\n",
    "cd_dow_births_max"
   ]
  },
  {
   "cell_type": "markdown",
   "metadata": {},
   "source": [
    "The max_min_births() returns a tuple with the first number being the value for the header, and the second as the total number of births.\n",
    "As an example (7, 4079723) means that the least amount of births are on Sundays. Why is that the case? Is it because Sunday is the Sabbath? Inversely, how come a majority of births are on weekdays? Is it because people want to take a day off from work? Another interesting observation is that there are fewer births on weekends. What is the connection there? Is it because some people want to name their children after after a day of the week, but Saturday and Sunday are not truly viable child names?\n",
    "\n",
    "\n",
    "\n"
   ]
  },
  {
   "cell_type": "markdown",
   "metadata": {},
   "source": [
    "## Superstitious Birth Days\n",
    "\n",
    "You can see how hard it is to extrapolate on the data if there's no background and/or historical knowledge about U.S births -- it almost becomes laughable. An estimation window can be set for birth, but in all likelihood it's much more like double patio doors. However, because people can be a tad superstitous about what date they would rather not give birth, let's see if there's a relation to the number of births on Friday the Thirteens and on Leap Days."
   ]
  },
  {
   "cell_type": "code",
   "execution_count": 21,
   "metadata": {},
   "outputs": [],
   "source": [
    "def superstitious_births(input_list, name, date_of_month, day_of_week=None, month=None):\n",
    "    births_per_column = { name: 0, 'regular': 0}\n",
    "    \n",
    "    for data in input_list:\n",
    "        if not month:\n",
    "            if data[3] == day_of_week:\n",
    "                if data[2] == date_of_month:\n",
    "                    births_per_column[name] += data[4]\n",
    "                else:\n",
    "                    births_per_column['regular'] += data[4]\n",
    "        else:\n",
    "            if data[1] == month:\n",
    "                if data[2] == date_of_month:\n",
    "                    births_per_column[name] += data[4]\n",
    "                else:\n",
    "                    births_per_column['regular'] += data[4]\n",
    "                \n",
    "    return births_per_column"
   ]
  },
  {
   "cell_type": "code",
   "execution_count": 22,
   "metadata": {},
   "outputs": [
    {
     "data": {
      "text/plain": [
       "{'friday_13': 182477, 'regular': 6051180}"
      ]
     },
     "execution_count": 22,
     "metadata": {},
     "output_type": "execute_result"
    }
   ],
   "source": [
    "freaky_friday_births = superstitious_births(cdc_list, name='friday_13', date_of_month=13, day_of_week=5)\n",
    "freaky_friday_births"
   ]
  },
  {
   "cell_type": "code",
   "execution_count": 23,
   "metadata": {},
   "outputs": [
    {
     "data": {
      "text/plain": [
       "{'leap_day': 22337, 'regular': 2995803}"
      ]
     },
     "execution_count": 23,
     "metadata": {},
     "output_type": "execute_result"
    }
   ],
   "source": [
    "leap_day_births = superstitious_births(cdc_list, name='leap_day', date_of_month=29, month=2)\n",
    "leap_day_births"
   ]
  },
  {
   "cell_type": "markdown",
   "metadata": {},
   "source": [
    "Notice the dropoffs in births on Friday 13s against regular Fridays and on Leap Days against all other days in February. This would seem to support that a ***very*** superstitious about what date they give birth, and would take action to either indduce an earlier birth or maybe attempt to align their pregnancies with avoiding the end of the month in consideration. Once again, this is merely all conjecture, and even based on incorrect calculations. In our superstitious_births() function returns the sum of births on Friday 13s versus all other Firday births. The function also only returns sum of births on February 29 against all other births in February. This is not ideal in determing if there are actual dropoffs in births on those superstitious days. \n",
    "\n",
    "We will limit ourselves to just focusing on the Leap Day data. To determine if Leap Day has an effect on births we would need to only account for the February's in Leap Years and maybe even focus our data on the days before and after Leap Day."
   ]
  },
  {
   "cell_type": "code",
   "execution_count": 24,
   "metadata": {},
   "outputs": [],
   "source": [
    "def leap_day_births(input_list):\n",
    "    # 27, 28, 29 are month_dates in Feb. 1, 2, 3 are month_dates in Mar.\n",
    "    dates = { 27: 0, 28: 0, 29: 0, 1: 0, 2: 0, 3: 0 }\n",
    "    \n",
    "    for data in input_list:\n",
    "        if data[0] in [1996, 2000]:\n",
    "            if data[1] == 2:\n",
    "                if data[2] in [27, 28, 29]:\n",
    "                    dates[data[2]] += data[4] \n",
    "            if data[1] == 3:\n",
    "                if data[2] in [1, 2, 3]:\n",
    "                    dates[data[2]] += data[4] \n",
    "                    \n",
    "    return dates  "
   ]
  },
  {
   "cell_type": "code",
   "execution_count": 25,
   "metadata": {},
   "outputs": [
    {
     "name": "stdout",
     "output_type": "stream",
     "text": [
      "min_births (27, 19477)\n",
      "max_births (1, 24192)\n"
     ]
    },
    {
     "data": {
      "text/plain": [
       "{1: 24192, 2: 20980, 3: 20005, 27: 19477, 28: 22643, 29: 22337}"
      ]
     },
     "execution_count": 25,
     "metadata": {},
     "output_type": "execute_result"
    }
   ],
   "source": [
    "births_around_leap_days = leap_day_births(cdc_list)\n",
    "print('min_births', max_min_births(births_around_leap_days))\n",
    "print('max_births', max_min_births(births_around_leap_days, reverse=True))\n",
    "births_around_leap_days"
   ]
  },
  {
   "cell_type": "markdown",
   "metadata": {},
   "source": [
    "There's an extra 2000 children born on March 1st in Leap Years. Is that enough of a correlation? Are parents conscientuously pulling a Portgas D. Rouge -- although to a sensible extent? Again, the data doesn't verify that with absolute certainty. \n",
    "\n",
    "To run all the above calculations with additional U.S births spanning from 2004 to 2014 just combine the **US_births_1994-2003_CDC_NCHS.csv** and **US_births_2000-2014_SSA.csv**. It will be the same steps as outlined in the beginning of this post. However upon reading this additional file, measures will need to be taken to not include the header and the overlapping years (2000 - 2003) when combining these two datasets into one.\n",
    "\n",
    "In the next post, I hope to highlight some of the basics of another highly performant package, Pandas, that not only can read in all types of data files, combine multiple datasets, but also manipulate the data therein, amonst many other uses.\n",
    "    "
   ]
  }
 ],
 "metadata": {
  "anaconda-cloud": {},
  "kernelspec": {
   "display_name": "Python 3",
   "language": "python",
   "name": "python3"
  },
  "language_info": {
   "codemirror_mode": {
    "name": "ipython",
    "version": 3
   },
   "file_extension": ".py",
   "mimetype": "text/x-python",
   "name": "python",
   "nbconvert_exporter": "python",
   "pygments_lexer": "ipython3",
   "version": "3.6.4"
  }
 },
 "nbformat": 4,
 "nbformat_minor": 1
}
