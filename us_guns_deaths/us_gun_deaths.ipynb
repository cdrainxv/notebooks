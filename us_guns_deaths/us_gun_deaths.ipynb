{
 "cells": [
  {
   "cell_type": "markdown",
   "metadata": {},
   "source": [
    "# Analyzing US Gun Deaths"
   ]
  },
  {
   "cell_type": "markdown",
   "metadata": {},
   "source": [
    "In the last post, there was emphasis placed on how to read in csv file(s), remove the headers, work with the data, and then finally close the file. Today we will look at how to use the **csv** module for python to write and read csv textfiles. That will only be a small extent of today's focus as what we want is to actually work with data that we can make solid and accurate observations upon. For now let's learn how to make use of the **csv** module. Additionally, we will make use of a **context manager** as briefly mentioned at the end of the last post. We will not go into depth into the workings of the csv file as the [documentation](https://docs.python.org/3/library/csv.html#examples) is very easy to read and has very excellent examples to which we can refer."
   ]
  },
  {
   "cell_type": "markdown",
   "metadata": {},
   "source": [
    "## Creating A CSV FILE"
   ]
  },
  {
   "cell_type": "code",
   "execution_count": 1,
   "metadata": {},
   "outputs": [],
   "source": [
    "import csv\n",
    "from pprint import pprint\n",
    "\n",
    "nba_players_info = [\n",
    "    ['player', 'team', 'pos', 'number'],\n",
    "    ['K. Durant', 'GS Warriors', 'SF', 35],\n",
    "    ['J. Harden', 'Houston Rockets', 'SG', 13],\n",
    "    ['K.A Towns', 'Minnesota Timberwolves', 'C', 32],\n",
    "    ['Kyrie Irving', 'Boston Celtics', 'PG', 11],\n",
    "    ['Anthony Davis', 'NO Pelicans', 'PF', 23]\n",
    "]\n",
    "\n",
    "with open('nba_players.csv', mode='w', newline='', encoding='utf-8') as f:\n",
    "    writer = csv.writer(f)\n",
    "    writer.writerows(nba_players_info)"
   ]
  },
  {
   "cell_type": "markdown",
   "metadata": {},
   "source": [
    "## Reading a CSV File"
   ]
  },
  {
   "cell_type": "code",
   "execution_count": 2,
   "metadata": {},
   "outputs": [
    {
     "name": "stdout",
     "output_type": "stream",
     "text": [
      "[['player', 'team', 'pos', 'number'],\n",
      " ['K. Durant', 'GS Warriors', 'SF', '35'],\n",
      " ['J. Harden', 'Houston Rockets', 'SG', '13'],\n",
      " ['K.A Towns', 'Minnesota Timberwolves', 'C', '32'],\n",
      " ['Kyrie Irving', 'Boston Celtics', 'PG', '11'],\n",
      " ['Anthony Davis', 'NO Pelicans', 'PF', '23']]\n"
     ]
    }
   ],
   "source": [
    "with open('nba_players.csv', 'r') as f:\n",
    "    reader = csv.reader(f)\n",
    "    pprint(list(reader))"
   ]
  },
  {
   "cell_type": "markdown",
   "metadata": {},
   "source": [
    "## US Gun Deaths\n",
    "\n",
    "Alright, now that we know how to use the csv module - at least the reader and writer objects - let's make use of it read in some data concerning gun related deaths in the US from 2012 to 2014."
   ]
  },
  {
   "cell_type": "code",
   "execution_count": 3,
   "metadata": {},
   "outputs": [
    {
     "name": "stdout",
     "output_type": "stream",
     "text": [
      "[['', 'year', 'month', 'intent', 'police', 'sex', 'age', 'race', 'hispanic', 'place', 'education'],\n",
      " ['1', '2012', '01', 'Suicide', '0', 'M', '34', 'Asian/Pacific Islander', '100', 'Home', '4'],\n",
      " ['2', '2012', '01', 'Suicide', '0', 'F', '21', 'White', '100', 'Street', '3'],\n",
      " ['3', '2012', '01', 'Suicide', '0', 'M', '60', 'White', '100', 'Other specified', '4'],\n",
      " ['4', '2012', '02', 'Suicide', '0', 'M', '64', 'White', '100', 'Home', '4']]\n"
     ]
    }
   ],
   "source": [
    "from csv import reader\n",
    "import datetime\n",
    "from pprint import pprint\n",
    "\n",
    "f = open('guns.csv', 'r')\n",
    "data = list(reader(f))\n",
    "# We only need to see a small sample of the data\n",
    "pprint(data[:5], width=120, depth=2, compact=True)"
   ]
  },
  {
   "cell_type": "code",
   "execution_count": 4,
   "metadata": {},
   "outputs": [
    {
     "name": "stdout",
     "output_type": "stream",
     "text": [
      "['', 'year', 'month', 'intent', 'police', 'sex', 'age', 'race', 'hispanic', 'place', 'education']\n"
     ]
    }
   ],
   "source": [
    "# Peek at the headers\n",
    "from pprint import pprint\n",
    "headers = data[0]\n",
    "print(headers)"
   ]
  },
  {
   "cell_type": "markdown",
   "metadata": {},
   "source": [
    "Let's explore the meaning behing each header:\n",
    "\n",
    "* year -- the year in which the fatality occurred.\n",
    "\n",
    "\n",
    "* month -- the month in which the fatality occurred.\n",
    "\n",
    "\n",
    "* intent -- the intent of the perpetrator of the crime. This can be Suicide, Accidental, NA, Homicide, or Undetermined.\n",
    "\n",
    "\n",
    "* police -- whether a police officer was involved with the shooting. Either 0 (false) or 1 (true).\n",
    "\n",
    "\n",
    "* sex -- the gender of the victim. Either M or F.\n",
    "\n",
    "\n",
    "* age -- the age of the victim.\n",
    "\n",
    "\n",
    "* race -- the race of the victim. Either Asian/Pacific Islander, Native American/Native Alaskan, Black, Hispanic, or White.\n",
    "\n",
    "\n",
    "* hispanic -- a code indicating the Hispanic origin of the victim.\n",
    "\n",
    "\n",
    "* place -- where the shooting occurred. Has several categories, which you're encouraged to explore on your own.\n",
    "\n",
    "\n",
    "* education -- educational status of the victim. Can be one of the following:\n",
    "\n",
    "    1. Less than High School\n",
    "    2. Graduated from High School or equivalent\n",
    "    3. Some College\n",
    "    4. At least graduated from College\n",
    "    5. Not available"
   ]
  },
  {
   "cell_type": "markdown",
   "metadata": {},
   "source": [
    "## Deaths Per Year\n",
    "\n",
    "**Expectations**: I don't know too much about any major US conflicts that happened between 2012 - 2014, save for some [mass shootings](http://timelines.latimes.com/deadliest-shooting-rampages/) and the now frequently occurring police slaying of Black people. Those deaths will hopefully show up in the dataset, but as sad it is, it most likely will not register much in the grand sums of yearly deaths."
   ]
  },
  {
   "cell_type": "code",
   "execution_count": 5,
   "metadata": {},
   "outputs": [
    {
     "name": "stdout",
     "output_type": "stream",
     "text": [
      "[['1', '2012', '01', 'Suicide', '0', 'M', '34', 'Asian/Pacific Islander', '100', 'Home', '4'],\n",
      " ['2', '2012', '01', 'Suicide', '0', 'F', '21', 'White', '100', 'Street', '3'],\n",
      " ['3', '2012', '01', 'Suicide', '0', 'M', '60', 'White', '100', 'Other specified', '4'],\n",
      " ['4', '2012', '02', 'Suicide', '0', 'M', '64', 'White', '100', 'Home', '4'],\n",
      " ['5', '2012', '02', 'Suicide', '0', 'M', '31', 'White', '100', 'Other specified', '2']]\n"
     ]
    }
   ],
   "source": [
    "# Remove the header from our data\n",
    "gun_data = data[1:]\n",
    "pprint(gun_data[:5], width=120, depth=10, compact=True)"
   ]
  },
  {
   "cell_type": "code",
   "execution_count": 6,
   "metadata": {},
   "outputs": [],
   "source": [
    "years = [row[1] for row in gun_data]\n",
    "year_counts = {}"
   ]
  },
  {
   "cell_type": "code",
   "execution_count": 7,
   "metadata": {},
   "outputs": [],
   "source": [
    "for year in years:\n",
    "    if year in year_counts:\n",
    "        year_counts[year] += 1\n",
    "    else:\n",
    "        year_counts[year] = 1"
   ]
  },
  {
   "cell_type": "code",
   "execution_count": 8,
   "metadata": {},
   "outputs": [
    {
     "data": {
      "text/plain": [
       "{'2012': 33563, '2013': 33636, '2014': 33599}"
      ]
     },
     "execution_count": 8,
     "metadata": {},
     "output_type": "execute_result"
    }
   ],
   "source": [
    "year_counts"
   ]
  },
  {
   "cell_type": "markdown",
   "metadata": {},
   "source": [
    "**Observations**: As it the data is limited yearwise, we can only infer that the amount of deaths  year by year is stagnant around the ~33,590 (based on the mean). To get any significant data we will have to delve in much further."
   ]
  },
  {
   "cell_type": "markdown",
   "metadata": {},
   "source": [
    "## Deaths Per Month\n",
    "\n",
    "**Expectations**: This one is quite harder to predict mainly because any inference I could make could be plausible. Looking at some of the intentions - Suicide, Accidental, NA, Homicide, or Undetermined - I could hypothesize this:\n",
    "\n",
    "   **INCREASE**:\n",
    "    \n",
    "   * Months leading to winter holidays: Increase in deaths due to [Robbin Season](http://www.vulture.com/2018/01/atlanta-season-two-robbin-season-how-it-got-its-name.html).\n",
    "        \n",
    "   * Winter holidays months: \n",
    "       Increase in suicides maybe because of lack of family, SAD, etc, or the gathering of many people in enclosed spaces\n",
    "                 \n",
    "   * Summer months: Homicide increase due to the effect of heat on people and generally people are out and about interacting with each other more often\n",
    "   \n",
    "        \n",
    "  **DECREASE**:\n",
    "   \n",
    "   * End of winter holiday months: People are awaiting Spring eagerly and have just enjoyed some much needed timeoff and respite from work/school. Black History month may be a factor."
   ]
  },
  {
   "cell_type": "code",
   "execution_count": 9,
   "metadata": {},
   "outputs": [
    {
     "data": {
      "text/plain": [
       "[datetime.datetime(2012, 1, 1, 0, 0),\n",
       " datetime.datetime(2012, 1, 1, 0, 0),\n",
       " datetime.datetime(2012, 1, 1, 0, 0),\n",
       " datetime.datetime(2012, 2, 1, 0, 0),\n",
       " datetime.datetime(2012, 2, 1, 0, 0)]"
      ]
     },
     "execution_count": 9,
     "metadata": {},
     "output_type": "execute_result"
    }
   ],
   "source": [
    "dates = [datetime.datetime(year=int(row[1]), month=int(row[2]), day=1) for row in gun_data]\n",
    "dates[:5]"
   ]
  },
  {
   "cell_type": "code",
   "execution_count": 10,
   "metadata": {},
   "outputs": [],
   "source": [
    "date_counts = {}\n",
    "\n",
    "for date in dates:\n",
    "    if date in date_counts:\n",
    "        date_counts[date] += 1\n",
    "    else:\n",
    "        date_counts[date] = 1"
   ]
  },
  {
   "cell_type": "code",
   "execution_count": 11,
   "metadata": {},
   "outputs": [
    {
     "data": {
      "text/plain": [
       "[('2012 Jan', 2758),\n",
       " ('2012 Feb', 2357),\n",
       " ('2012 Mar', 2743),\n",
       " ('2012 Apr', 2795),\n",
       " ('2012 May', 2999)]"
      ]
     },
     "execution_count": 11,
     "metadata": {},
     "output_type": "execute_result"
    }
   ],
   "source": [
    "# display only a small sample of formatted date_counts\n",
    "formatted_date_counts = [(i[1][0].strftime(\"%Y %b\"), i[1][1]) for i in enumerate(date_counts.items())]\n",
    "formatted_date_counts[:5]"
   ]
  },
  {
   "cell_type": "code",
   "execution_count": 12,
   "metadata": {},
   "outputs": [],
   "source": [
    "def max_min_deaths(input_list):\n",
    "    from operator import itemgetter\n",
    "    sorted_deaths = sorted(input_list, key=itemgetter(1))\n",
    "    return {\n",
    "        'min': sorted_deaths[0:3], \n",
    "        'max': sorted_deaths[-1:-4:-1]\n",
    "    }"
   ]
  },
  {
   "cell_type": "code",
   "execution_count": 13,
   "metadata": {},
   "outputs": [
    {
     "name": "stdout",
     "output_type": "stream",
     "text": [
      "2012 {'min': [('2012 Feb', 2357), ('2012 Nov', 2729), ('2012 Oct', 2733)], 'max': [('2012 Jul', 3026), ('2012 May', 2999), ('2012 Aug', 2954)]}\n",
      "------------------\n",
      "2013 {'min': [('2013 Feb', 2375), ('2013 Sep', 2742), ('2013 Nov', 2758)], 'max': [('2013 Jul', 3079), ('2013 Jun', 2920), ('2013 Jan', 2864)]}\n",
      "------------------\n",
      "2014 {'min': [('2014 Feb', 2361), ('2014 Jan', 2651), ('2014 Mar', 2684)], 'max': [('2014 Aug', 2970), ('2014 Jun', 2931), ('2014 Sep', 2914)]}\n"
     ]
    }
   ],
   "source": [
    "print(f'2012 {max_min_deaths(formatted_date_counts[:12])}')\n",
    "print('------------------')\n",
    "print(f'2013 {max_min_deaths(formatted_date_counts[12:24])}')\n",
    "print('------------------')\n",
    "print(f'2014 {max_min_deaths(formatted_date_counts[24:])}')\n",
    "        "
   ]
  },
  {
   "cell_type": "markdown",
   "metadata": {},
   "source": [
    "**Obsevations**: \n",
    "February had the least amount of deaths in all three years with an average of 2365 deaths. The next months with the least amount of deaths tended to be Fall months (Sept, Oct, Nov). Does this decrease in deaths coincide with children going to school, regardless of whether if the deaths are attributed to adults or school-age children, or maybe the weeks leading to Thanksgiving and eventually the winter holiday festivities?\n",
    "\n",
    "Likewise, the max deaths are generally in the summer months; with the record high of 3079 in July of 2012 and deaths hovering at or neat the 3000 mark."
   ]
  },
  {
   "cell_type": "code",
   "execution_count": 14,
   "metadata": {},
   "outputs": [
    {
     "name": "stdout",
     "output_type": "stream",
     "text": [
      "['', 'year', 'month', 'intent', 'police', 'sex', 'age', 'race', 'hispanic', 'place', 'education']\n"
     ]
    }
   ],
   "source": [
    "pprint(headers, width=120)"
   ]
  },
  {
   "cell_type": "code",
   "execution_count": 15,
   "metadata": {},
   "outputs": [],
   "source": [
    "def column_counts(input_list, column):\n",
    "    col_count = {}\n",
    "    for row in input_list:\n",
    "        col = row[column]\n",
    "        if col in col_count:\n",
    "            col_count[col] += 1\n",
    "        else: \n",
    "            col_count[col] = 1\n",
    "    return col_count"
   ]
  },
  {
   "cell_type": "markdown",
   "metadata": {},
   "source": [
    "# Deaths Based On Binary Gender"
   ]
  },
  {
   "cell_type": "code",
   "execution_count": 16,
   "metadata": {},
   "outputs": [
    {
     "data": {
      "text/plain": [
       "{'F': 14449, 'M': 86349}"
      ]
     },
     "execution_count": 16,
     "metadata": {},
     "output_type": "execute_result"
    }
   ],
   "source": [
    "sex_counts = column_counts(gun_data, 5)\n",
    "sex_counts"
   ]
  },
  {
   "cell_type": "markdown",
   "metadata": {},
   "source": [
    "From the data, it seems that 6x more men are in involved in gun-related deaths than women. This huge disparity will require a further analysis into the intents of the deaths."
   ]
  },
  {
   "cell_type": "code",
   "execution_count": 17,
   "metadata": {},
   "outputs": [],
   "source": [
    "def gender_cols_count(input_list, col):\n",
    "    col_count = {'M': {}, 'F': {}}\n",
    "    for row in input_list:\n",
    "        sex = row[5]\n",
    "        cat = row[col]\n",
    "        if cat in col_count[sex]:\n",
    "            col_count[sex][cat] += 1\n",
    "        else:\n",
    "            col_count[sex][cat] = 0\n",
    "    return col_count\n",
    "    "
   ]
  },
  {
   "cell_type": "code",
   "execution_count": 18,
   "metadata": {},
   "outputs": [
    {
     "name": "stdout",
     "output_type": "stream",
     "text": [
      "{'F': {'Accidental': 217,\n",
      "       'Homicide': 5372,\n",
      "       'Suicide': 8688,\n",
      "       'Undetermined': 168},\n",
      " 'M': {'Accidental': 1420,\n",
      "       'Homicide': 29802,\n",
      "       'NA': 0,\n",
      "       'Suicide': 54485,\n",
      "       'Undetermined': 637}}\n"
     ]
    }
   ],
   "source": [
    "gender_deaths_intents = gender_cols_count(gun_data, 3)\n",
    "pprint(gender_deaths_intents)"
   ]
  },
  {
   "cell_type": "markdown",
   "metadata": {},
   "source": [
    "Like most people I assumed that there would be more male deaths related to homicides, and the data supports that with 37% of males and 34% of females deaths attributed to them. Again the ratio of deaths due to suicide is 60% and 63% for females and males respectively. Although the percentages of the intents are very similar for both genders, the number of deaths for the males is astoundingly higher, especially considering the [male to female population](https://data.worldbank.org/indicator/SP.POP.TOTL.FE.ZS?end=2014&locations=US&start=2012&view=chart) of the US is close to parity. Another very concerning category is the amount of 'Accidental' and 'Undetermined'. When I see 'Accidental' deaths my thoughts are immediately filled with new stories of little children in possessions of guns and the guns going off accidentally, or even worse, stories where the police is involved and [shoot an innocent child](https://www.huffingtonpost.com/2014/09/17/aiyana-stanley-jones-joseph-weekley-trial_n_5824684.html). "
   ]
  },
  {
   "cell_type": "markdown",
   "metadata": {},
   "source": [
    "## Deaths Broken Down By Race\n",
    "\n",
    "It's bad enough that there are all theses deaths, but to address some of these deaths we need the numbers to see which communities are suffering the most. Bear in mind though that the following numbers will be need to framed with how each [race group](https://statisticalatlas.com/United-States/Race-and-Ethnicity) is represented in the US."
   ]
  },
  {
   "cell_type": "code",
   "execution_count": 19,
   "metadata": {},
   "outputs": [
    {
     "name": "stdout",
     "output_type": "stream",
     "text": [
      "{'Asian/Pacific Islander': 1326,\n",
      " 'Black': 23296,\n",
      " 'Hispanic': 9022,\n",
      " 'Native American/Native Alaskan': 917,\n",
      " 'White': 66237}\n"
     ]
    }
   ],
   "source": [
    "race_counts = column_counts(gun_data, 7)\n",
    "pprint(race_counts)"
   ]
  },
  {
   "cell_type": "code",
   "execution_count": 20,
   "metadata": {},
   "outputs": [
    {
     "name": "stdout",
     "output_type": "stream",
     "text": [
      "{'F': {'Asian/Pacific Islander': 243,\n",
      "       'Black': 2317,\n",
      "       'Hispanic': 1072,\n",
      "       'Native American/Native Alaskan': 126,\n",
      "       'White': 10686},\n",
      " 'M': {'Asian/Pacific Islander': 1081,\n",
      "       'Black': 20977,\n",
      "       'Hispanic': 7948,\n",
      "       'Native American/Native Alaskan': 789,\n",
      "       'White': 55549}}\n"
     ]
    }
   ],
   "source": [
    "gender_race_deaths = gender_cols_count(gun_data, 7)\n",
    "pprint(gender_race_deaths)"
   ]
  },
  {
   "cell_type": "markdown",
   "metadata": {},
   "source": [
    "In all the race groups men are 5-10X more likely to die from gun-related deaths than women. This is once again not surprising considering men are more likely to be in possession of guns.\n",
    "\n",
    "\n",
    "\n",
    "\n",
    "Currently all our data is focused on deaths on the general US population -- even the ones based on race groups. Let's pivot and peer into how these deaths relate to their respective race groups. We have at our disposal a **census** csv file which provides us with the population of each race in the US in 2010."
   ]
  },
  {
   "cell_type": "code",
   "execution_count": 21,
   "metadata": {},
   "outputs": [
    {
     "name": "stdout",
     "output_type": "stream",
     "text": [
      "['Id',\n",
      " 'Year',\n",
      " 'Id',\n",
      " 'Sex',\n",
      " 'Id',\n",
      " 'Hispanic Origin',\n",
      " 'Id',\n",
      " 'Id2',\n",
      " 'Geography',\n",
      " 'Total',\n",
      " 'Race Alone - White',\n",
      " 'Race Alone - Hispanic',\n",
      " 'Race Alone - Black or African American',\n",
      " 'Race Alone - American Indian and Alaska Native',\n",
      " 'Race Alone - Asian',\n",
      " 'Race Alone - Native Hawaiian and Other Pacific Islander',\n",
      " 'Two or More Races']\n"
     ]
    }
   ],
   "source": [
    "from csv import reader\n",
    "f = open('census.csv', 'r')\n",
    "census = list(reader(f))\n",
    "census_header = census[0]\n",
    "pprint(census_header)"
   ]
  },
  {
   "cell_type": "code",
   "execution_count": 22,
   "metadata": {},
   "outputs": [
    {
     "name": "stdout",
     "output_type": "stream",
     "text": [
      "[['cen42010',\n",
      "  'April 1, 2010 Census',\n",
      "  'totsex',\n",
      "  'Both Sexes',\n",
      "  'tothisp',\n",
      "  'Total',\n",
      "  '0100000US',\n",
      "  '',\n",
      "  'United States',\n",
      "  '308745538',\n",
      "  '197318956',\n",
      "  '44618105',\n",
      "  '40250635',\n",
      "  '3739506',\n",
      "  '15159516',\n",
      "  '674625',\n",
      "  '6984195']]\n"
     ]
    }
   ],
   "source": [
    "census_data = census[1:]\n",
    "pprint(census_data)"
   ]
  },
  {
   "cell_type": "markdown",
   "metadata": {},
   "source": [
    "The race groupings in the census don't fully align with the ones in the gun deaths data so we attempt to rectify this by merging the 'Asian' and 'Native Hawaiian and Other Pacific Islander' into 'Asian/Pacific Islander', while also not including the population of 'Two or More Races' group at all. "
   ]
  },
  {
   "cell_type": "code",
   "execution_count": 23,
   "metadata": {},
   "outputs": [],
   "source": [
    "mapping = {\n",
    "    'Asian/Pacific Islander': 15159516 + 674625,\n",
    "    'Black': 40250635,\n",
    "    'Hispanic': 44618105,\n",
    "    'Native American/Native Alaskan': 3739506,\n",
    "    'White': 197318956\n",
    "}"
   ]
  },
  {
   "cell_type": "code",
   "execution_count": 24,
   "metadata": {},
   "outputs": [],
   "source": [
    "def race_deaths(race_counts, race_map, per=1):\n",
    "    deaths_count = {}\n",
    "    for race, deaths in race_counts.items():\n",
    "        deaths_count[race] = (deaths / mapping[race]) * per\n",
    "        \n",
    "    return deaths_count"
   ]
  },
  {
   "cell_type": "code",
   "execution_count": 25,
   "metadata": {},
   "outputs": [
    {
     "name": "stdout",
     "output_type": "stream",
     "text": [
      "{'Asian/Pacific Islander': 8.374309664161763e-05,\n",
      " 'Black': 0.000578773477735196,\n",
      " 'Hispanic': 0.00020220491210910907,\n",
      " 'Native American/Native Alaskan': 0.0002452195557381109,\n",
      " 'White': 0.0003356849303419181}\n"
     ]
    }
   ],
   "source": [
    "race_deaths_gen = race_deaths(race_counts, mapping)\n",
    "pprint(race_deaths_gen)"
   ]
  },
  {
   "cell_type": "markdown",
   "metadata": {},
   "source": [
    "The numbers above are correct but they don't really register as whole human beings at all. In these scenarios, the standard is to express crime statistics **per 100,000**. "
   ]
  },
  {
   "cell_type": "code",
   "execution_count": 26,
   "metadata": {},
   "outputs": [
    {
     "name": "stdout",
     "output_type": "stream",
     "text": [
      "{'Asian/Pacific Islander': 8.374309664161762,\n",
      " 'Black': 57.8773477735196,\n",
      " 'Hispanic': 20.220491210910907,\n",
      " 'Native American/Native Alaskan': 24.521955573811088,\n",
      " 'White': 33.56849303419181}\n"
     ]
    }
   ],
   "source": [
    "race_per_hundredk = race_deaths(race_counts, mapping, per=100000)\n",
    "pprint(race_per_hundredk)"
   ]
  },
  {
   "cell_type": "markdown",
   "metadata": {},
   "source": [
    "## Homicide Related Deaths"
   ]
  },
  {
   "cell_type": "code",
   "execution_count": 27,
   "metadata": {
    "scrolled": true
   },
   "outputs": [
    {
     "data": {
      "text/plain": [
       "['Suicide', 'Suicide', 'Suicide', 'Suicide', 'Suicide']"
      ]
     },
     "execution_count": 27,
     "metadata": {},
     "output_type": "execute_result"
    }
   ],
   "source": [
    "intents = [row[3] for row in gun_data]\n",
    "intents[:5]"
   ]
  },
  {
   "cell_type": "code",
   "execution_count": 28,
   "metadata": {},
   "outputs": [
    {
     "data": {
      "text/plain": [
       "['Asian/Pacific Islander', 'White', 'White', 'White', 'White']"
      ]
     },
     "execution_count": 28,
     "metadata": {},
     "output_type": "execute_result"
    }
   ],
   "source": [
    "races = [row[7] for row in gun_data]\n",
    "races[:5]"
   ]
  },
  {
   "cell_type": "code",
   "execution_count": 29,
   "metadata": {},
   "outputs": [],
   "source": [
    "homicide_race_counts = {}\n",
    "\n",
    "for i, race in enumerate(races):\n",
    "    if intents[i] == 'Homicide':\n",
    "        if race in homicide_race_counts:\n",
    "            homicide_race_counts[race] += 1\n",
    "        else:\n",
    "            homicide_race_counts[race] = 1"
   ]
  },
  {
   "cell_type": "code",
   "execution_count": 30,
   "metadata": {},
   "outputs": [
    {
     "name": "stdout",
     "output_type": "stream",
     "text": [
      "{'Asian/Pacific Islander': 559,\n",
      " 'Black': 19510,\n",
      " 'Hispanic': 5634,\n",
      " 'Native American/Native Alaskan': 326,\n",
      " 'White': 9147}\n"
     ]
    }
   ],
   "source": [
    "pprint(homicide_race_counts)"
   ]
  },
  {
   "cell_type": "markdown",
   "metadata": {},
   "source": [
    "Previously it was seen that overall gun-related deaths in the black community was ~23000, but with further insight almost 20000 ofdeaths were homicide related deaths! That's approximately 87%! Of the ~66,000 thousands deaths in the White community, only about 15% of them were homicide related. Let's see the level of police involvement in these deaths."
   ]
  },
  {
   "cell_type": "code",
   "execution_count": 31,
   "metadata": {},
   "outputs": [],
   "source": [
    "police_involvement = [row[4] for row in gun_data]\n",
    "police_homicides = {}\n",
    "\n",
    "for i, race in enumerate(races):\n",
    "    if intents[i] == 'Homicide' and police_involvement[i] == '1':\n",
    "        if race in police_homicides:\n",
    "            police_homicides[race] += 1\n",
    "        else:\n",
    "            police_homicides[race] = 1\n"
   ]
  },
  {
   "cell_type": "code",
   "execution_count": 32,
   "metadata": {},
   "outputs": [
    {
     "data": {
      "text/plain": [
       "{'Asian/Pacific Islander': 30,\n",
       " 'Black': 356,\n",
       " 'Hispanic': 282,\n",
       " 'Native American/Native Alaskan': 25,\n",
       " 'White': 709}"
      ]
     },
     "execution_count": 32,
     "metadata": {},
     "output_type": "execute_result"
    }
   ],
   "source": [
    "police_homicides"
   ]
  },
  {
   "cell_type": "code",
   "execution_count": 36,
   "metadata": {},
   "outputs": [
    {
     "name": "stdout",
     "output_type": "stream",
     "text": [
      "{'Asian/Pacific Islander': 0.18946401955117112,\n",
      " 'Black': 0.8844580961269306,\n",
      " 'Hispanic': 0.6320304280067475,\n",
      " 'Native American/Native Alaskan': 0.6685375020122979,\n",
      " 'White': 0.3593167196769478}\n"
     ]
    }
   ],
   "source": [
    "police_homicides_hundredk = race_deaths(police_homicides, mapping, per=100000)\n",
    "pprint(police_homicides_hundredk)"
   ]
  },
  {
   "cell_type": "markdown",
   "metadata": {},
   "source": [
    "We have to be very careful not to misread data such as the ones related to **police_homicides**. If not for the census data one could possibly build a false narrative that the white community is the one greatly affected by police-involved homicides. These narratives can be seen in many news programs that either an have an agenda, want to induce fear mongering, or for views.\n",
    "Notice how the focusing the data per 100000 people shows that minority groups such as the Black, Hispanic, and Native America/Alaskan, die the most at the hands of the police. At what capacity or reason for police involevment is not shown in the data, but most likely the data encompasses deaths related to crimes, being at the wrong place at the wrong time, 'accidents', or just plain old racism. I understand data should be void of any emotions and attachments, but how could one view numbers like these without a shred of humanity?"
   ]
  },
  {
   "cell_type": "markdown",
   "metadata": {},
   "source": [
    "We can still go further into the data and try to see other correlations in these deaths, such as education level and location, race and education level, homicides and the months they occur, suicides and race, etc. Any similar combinations will render insightful data on which to reflect upon, even shining a brighter light on some of our earlier predictions on the monthly data. "
   ]
  },
  {
   "cell_type": "markdown",
   "metadata": {},
   "source": [
    "This has been a very eye-opening look at how gun deaths have plagued the US, even moreso due to the recent Parkland mass shootings. If I was presented with data like above and had the power to reduce these very concerning numbers I would readily do so, but alas some people will just see numbers. Numbers don't generally convince the average person; they will need further either further clarification or a simpler easily digested format. One of these formates could possibly be tables. In the next post we will use a python packages named [Pandas](https://pandas.pydata.org/) to work better with tabled data in flat files like csv's. Pandas has many awesome features that enable us to perform calculations across our data quite tersely, merge several data files, and manipulate enitire rows and columns amongst other use cases."
   ]
  }
 ],
 "metadata": {
  "kernelspec": {
   "display_name": "Python 3",
   "language": "python",
   "name": "python3"
  },
  "language_info": {
   "codemirror_mode": {
    "name": "ipython",
    "version": 3
   },
   "file_extension": ".py",
   "mimetype": "text/x-python",
   "name": "python",
   "nbconvert_exporter": "python",
   "pygments_lexer": "ipython3",
   "version": "3.6.4"
  }
 },
 "nbformat": 4,
 "nbformat_minor": 1
}
